{
 "cells": [
  {
   "cell_type": "markdown",
   "id": "10fe5d98",
   "metadata": {},
   "source": [
    "# Pandas Review using a Pokemon Dataset"
   ]
  },
  {
   "cell_type": "code",
   "execution_count": 1,
   "id": "3266ec83",
   "metadata": {},
   "outputs": [],
   "source": [
    "import pandas as pd\n",
    "\n",
    "df = pd.read_csv('https://gist.githubusercontent.com/armgilles/\\\n",
    "194bcff35001e7eb53a2a8b441e8b2c6/raw/92200bc0a673d5ce2110aaad4544ed6c4010f687/pokemon.csv')"
   ]
  },
  {
   "cell_type": "markdown",
   "id": "a8bf1961",
   "metadata": {},
   "source": [
    "### Practice Exercises"
   ]
  },
  {
   "cell_type": "markdown",
   "id": "49599bbd",
   "metadata": {},
   "source": [
    "#### 1. Obtain the following information:\n",
    "    \n",
    "    - dimensions\n",
    "    - dtypes\n",
    "    - column names\n",
    "    - summary statistics\n"
   ]
  },
  {
   "cell_type": "code",
   "execution_count": null,
   "id": "7ef0f081",
   "metadata": {},
   "outputs": [],
   "source": []
  },
  {
   "cell_type": "markdown",
   "id": "8b208f4e",
   "metadata": {},
   "source": [
    "#### 2. Change all the column names\n",
    "      - lowercase letters\n",
    "      - remove whitespace\n",
    "      - remove periods"
   ]
  },
  {
   "cell_type": "code",
   "execution_count": null,
   "id": "784a255f",
   "metadata": {},
   "outputs": [],
   "source": []
  },
  {
   "cell_type": "markdown",
   "id": "392889dd",
   "metadata": {},
   "source": [
    "#### 3. What is the highest HP value present?"
   ]
  },
  {
   "cell_type": "markdown",
   "id": "4b2b6211",
   "metadata": {},
   "source": [
    "A: 255"
   ]
  },
  {
   "cell_type": "code",
   "execution_count": null,
   "id": "9a800dfd",
   "metadata": {},
   "outputs": [],
   "source": []
  },
  {
   "cell_type": "markdown",
   "id": "a125501f",
   "metadata": {},
   "source": [
    "#### 4. Which Pokemon possess(es) the highest HP value?\n",
    "- note: the `name` column is the pokemon name"
   ]
  },
  {
   "cell_type": "markdown",
   "id": "a49a3609",
   "metadata": {},
   "source": [
    "A: Blissey"
   ]
  },
  {
   "cell_type": "code",
   "execution_count": null,
   "id": "b24b6d50",
   "metadata": {},
   "outputs": [],
   "source": []
  },
  {
   "cell_type": "markdown",
   "id": "bb6cad0f",
   "metadata": {},
   "source": [
    "#### 5. How many different types are represented in Type 1? What are they?\n"
   ]
  },
  {
   "cell_type": "markdown",
   "id": "abf6bea2",
   "metadata": {},
   "source": [
    "A: 18,  ['Grass', 'Fire', 'Water', 'Bug', 'Normal', 'Poison', 'Electric',\n",
    "       'Ground', 'Fairy', 'Fighting', 'Psychic', 'Rock', 'Ghost', 'Ice',\n",
    "       'Dragon', 'Dark', 'Steel', 'Flying']"
   ]
  },
  {
   "cell_type": "code",
   "execution_count": null,
   "id": "4ec1466b",
   "metadata": {},
   "outputs": [],
   "source": []
  },
  {
   "cell_type": "markdown",
   "id": "79fc612f",
   "metadata": {},
   "source": [
    "#### 6. Number of Pokemon whose Type 2 is Ghost"
   ]
  },
  {
   "cell_type": "markdown",
   "id": "a30d1111",
   "metadata": {},
   "source": [
    "A: 14"
   ]
  },
  {
   "cell_type": "code",
   "execution_count": null,
   "id": "25743666",
   "metadata": {},
   "outputs": [],
   "source": []
  },
  {
   "cell_type": "markdown",
   "id": "6030c843",
   "metadata": {},
   "source": [
    "#### 7. Percentage of Pokemon whose Type 2 is Ghost"
   ]
  },
  {
   "cell_type": "markdown",
   "id": "aee59c5b",
   "metadata": {},
   "source": [
    "A: 1.75"
   ]
  },
  {
   "cell_type": "code",
   "execution_count": null,
   "id": "e33343fc",
   "metadata": {},
   "outputs": [],
   "source": []
  },
  {
   "cell_type": "markdown",
   "id": "6b5c4dd8",
   "metadata": {},
   "source": [
    "#### 8. Number of Pokemon whose Attack is greater than Defense"
   ]
  },
  {
   "cell_type": "markdown",
   "id": "f31dbc85",
   "metadata": {},
   "source": [
    "A: 433"
   ]
  },
  {
   "cell_type": "code",
   "execution_count": null,
   "id": "5fca143c",
   "metadata": {},
   "outputs": [],
   "source": []
  },
  {
   "cell_type": "markdown",
   "id": "ee9336b6",
   "metadata": {},
   "source": [
    "#### 9. What is the slowest speed for Grass type (either type 1 or type 2)"
   ]
  },
  {
   "cell_type": "markdown",
   "id": "11db6f7a",
   "metadata": {},
   "source": [
    "A: 10"
   ]
  },
  {
   "cell_type": "code",
   "execution_count": null,
   "id": "e15b16df",
   "metadata": {},
   "outputs": [],
   "source": []
  },
  {
   "cell_type": "markdown",
   "id": "73411538",
   "metadata": {},
   "source": [
    "#### 10. Find the average speed by Generation"
   ]
  },
  {
   "cell_type": "markdown",
   "id": "4ed58df8",
   "metadata": {},
   "source": [
    "A: generation\n",
    "- 1:    72.6\n",
    "- 2:    61.8\n",
    "- 3:    66.9\n",
    "- 4:    71.3\n",
    "- 5:    68.1\n",
    "- 6:    66.4"
   ]
  },
  {
   "cell_type": "code",
   "execution_count": null,
   "id": "984c5c2f",
   "metadata": {},
   "outputs": [],
   "source": []
  },
  {
   "cell_type": "markdown",
   "id": "4fad3770",
   "metadata": {},
   "source": [
    "#### 11. How many LEGENDARY Pokemon are DRAGON type?"
   ]
  },
  {
   "cell_type": "markdown",
   "id": "4ddbb0f0",
   "metadata": {},
   "source": [
    "A: 16"
   ]
  },
  {
   "cell_type": "code",
   "execution_count": null,
   "id": "2f0a2d9a",
   "metadata": {},
   "outputs": [],
   "source": []
  }
 ],
 "metadata": {
  "kernelspec": {
   "display_name": "Python 3 (ipykernel)",
   "language": "python",
   "name": "python3"
  },
  "language_info": {
   "codemirror_mode": {
    "name": "ipython",
    "version": 3
   },
   "file_extension": ".py",
   "mimetype": "text/x-python",
   "name": "python",
   "nbconvert_exporter": "python",
   "pygments_lexer": "ipython3",
   "version": "3.11.5"
  }
 },
 "nbformat": 4,
 "nbformat_minor": 5
}
